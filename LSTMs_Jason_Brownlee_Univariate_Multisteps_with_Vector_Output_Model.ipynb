{
  "nbformat": 4,
  "nbformat_minor": 0,
  "metadata": {
    "colab": {
      "name": "LSTMs_Jason Brownlee_Univariate-Multisteps with Vector Output Model.ipynb",
      "provenance": [],
      "collapsed_sections": [],
      "authorship_tag": "ABX9TyOTrSNwHGfAPZbWep+UHtPI",
      "include_colab_link": true
    },
    "kernelspec": {
      "name": "python3",
      "display_name": "Python 3"
    },
    "language_info": {
      "name": "python"
    }
  },
  "cells": [
    {
      "cell_type": "markdown",
      "metadata": {
        "id": "view-in-github",
        "colab_type": "text"
      },
      "source": [
        "<a href=\"https://colab.research.google.com/github/Soniartha/My_Strategy_Trading_Soniartha/blob/main/LSTMs_Jason_Brownlee_Univariate_Multisteps_with_Vector_Output_Model.ipynb\" target=\"_parent\"><img src=\"https://colab.research.google.com/assets/colab-badge.svg\" alt=\"Open In Colab\"/></a>"
      ]
    },
    {
      "cell_type": "code",
      "metadata": {
        "id": "RzLhnlrkr4Ye"
      },
      "source": [
        "#Import Library\n",
        "from numpy import array\n",
        "from keras.models import Sequential\n",
        "from keras.layers import LSTM\n",
        "from keras.layers import Dense"
      ],
      "execution_count": 2,
      "outputs": []
    },
    {
      "cell_type": "code",
      "metadata": {
        "id": "Sp5fcYjys33d"
      },
      "source": [
        "#Define Split Function to Convert sequence data into X and y structure\n",
        "def split_sequence(sequence, n_steps, n_steps_out):\n",
        "  X, y = list (), list ()\n",
        "  for i in range(len(sequence)):\n",
        "    end_ix = i + n_steps\n",
        "    out_end_ix = end_ix + n_steps_out\n",
        "    if out_end_ix > len(sequence):\n",
        "      break\n",
        "    seq_x, seq_y = sequence[i : end_ix], sequence[end_ix:out_end_ix]\n",
        "    X.append(seq_x)\n",
        "    y.append(seq_y)\n",
        "  return array(X), array(y)"
      ],
      "execution_count": 3,
      "outputs": []
    },
    {
      "cell_type": "code",
      "metadata": {
        "id": "GV7aaH046ZVG"
      },
      "source": [
        "#Define sequence\n",
        "series = [1,2,3,4,5,6,7,8,9,10]"
      ],
      "execution_count": 4,
      "outputs": []
    },
    {
      "cell_type": "code",
      "metadata": {
        "id": "bQNEWf8E6g2b"
      },
      "source": [
        "#Define n_steps\n",
        "n_steps, n_steps_out = 3,2"
      ],
      "execution_count": 5,
      "outputs": []
    },
    {
      "cell_type": "code",
      "metadata": {
        "id": "lDnDqoOU6n2b"
      },
      "source": [
        "#Split sequence into X and y structure\n",
        "X, y = split_sequence(series, n_steps, n_steps_out)"
      ],
      "execution_count": 6,
      "outputs": []
    },
    {
      "cell_type": "code",
      "metadata": {
        "colab": {
          "base_uri": "https://localhost:8080/"
        },
        "id": "K6opOsZ56w0n",
        "outputId": "a395b919-5b16-4f4d-e3ca-b1439ca36a6d"
      },
      "source": [
        "#Explore X and y dataset\n",
        "print(X.shape, y.shape)\n",
        "for i in range(len(X)):\n",
        "  print(X[i], y[i])"
      ],
      "execution_count": 7,
      "outputs": [
        {
          "output_type": "stream",
          "text": [
            "(6, 3) (6, 2)\n",
            "[1 2 3] [4 5]\n",
            "[2 3 4] [5 6]\n",
            "[3 4 5] [6 7]\n",
            "[4 5 6] [7 8]\n",
            "[5 6 7] [8 9]\n",
            "[6 7 8] [ 9 10]\n"
          ],
          "name": "stdout"
        }
      ]
    },
    {
      "cell_type": "code",
      "metadata": {
        "id": "JuFZywSD7DVT"
      },
      "source": [
        "#Define n_feature\n",
        "n_feature = 1"
      ],
      "execution_count": 8,
      "outputs": []
    },
    {
      "cell_type": "code",
      "metadata": {
        "id": "_QWAC2jm7Kib"
      },
      "source": [
        "#Reshape into 3D data structure\n",
        "X = X.reshape((X.shape[0], n_steps, n_feature))"
      ],
      "execution_count": 9,
      "outputs": []
    },
    {
      "cell_type": "code",
      "metadata": {
        "id": "_iH8Q5Qv7WjS"
      },
      "source": [
        "#Define LSTMs with Vector Output Model \n",
        "model = Sequential()\n",
        "model.add(LSTM(50, activation= 'relu', input_shape = (n_steps, n_feature)))\n",
        "model.add(Dense(n_steps_out))\n",
        "model.compile(optimizer = 'adam', loss = 'mse')"
      ],
      "execution_count": 10,
      "outputs": []
    },
    {
      "cell_type": "code",
      "metadata": {
        "colab": {
          "base_uri": "https://localhost:8080/"
        },
        "id": "VXoHSvVY7h2H",
        "outputId": "169f6bd8-83b4-4f08-ccf4-b870dd0b094d"
      },
      "source": [
        "model.summary()"
      ],
      "execution_count": 11,
      "outputs": [
        {
          "output_type": "stream",
          "text": [
            "Model: \"sequential\"\n",
            "_________________________________________________________________\n",
            "Layer (type)                 Output Shape              Param #   \n",
            "=================================================================\n",
            "lstm (LSTM)                  (None, 50)                10400     \n",
            "_________________________________________________________________\n",
            "dense (Dense)                (None, 2)                 102       \n",
            "=================================================================\n",
            "Total params: 10,502\n",
            "Trainable params: 10,502\n",
            "Non-trainable params: 0\n",
            "_________________________________________________________________\n"
          ],
          "name": "stdout"
        }
      ]
    },
    {
      "cell_type": "code",
      "metadata": {
        "colab": {
          "base_uri": "https://localhost:8080/"
        },
        "id": "nbi9mhf88sXe",
        "outputId": "649de3b5-26df-4744-a608-9f66c4e9fe71"
      },
      "source": [
        "model.fit(X, y, epochs= 500, verbose=0)"
      ],
      "execution_count": 12,
      "outputs": [
        {
          "output_type": "execute_result",
          "data": {
            "text/plain": [
              "<tensorflow.python.keras.callbacks.History at 0x7f61f640a410>"
            ]
          },
          "metadata": {
            "tags": []
          },
          "execution_count": 12
        }
      ]
    },
    {
      "cell_type": "code",
      "metadata": {
        "id": "xr2Hb_R-8xjZ"
      },
      "source": [
        "#Predicted demonstration\n",
        "x_input = array([8, 9, 10])\n",
        "x_input = x_input.reshape((1, n_steps, n_feature))\n",
        "y_hat = model.predict(x_input, verbose= 0)"
      ],
      "execution_count": 13,
      "outputs": []
    },
    {
      "cell_type": "code",
      "metadata": {
        "colab": {
          "base_uri": "https://localhost:8080/"
        },
        "id": "9hEmosWpimvB",
        "outputId": "a3909d96-0146-4fb7-fa91-857a19746801"
      },
      "source": [
        "print(y_hat)"
      ],
      "execution_count": 14,
      "outputs": [
        {
          "output_type": "stream",
          "text": [
            "[[10.645218 11.566364]]\n"
          ],
          "name": "stdout"
        }
      ]
    },
    {
      "cell_type": "code",
      "metadata": {
        "id": "2pol4iaaioAY"
      },
      "source": [
        ""
      ],
      "execution_count": null,
      "outputs": []
    }
  ]
}